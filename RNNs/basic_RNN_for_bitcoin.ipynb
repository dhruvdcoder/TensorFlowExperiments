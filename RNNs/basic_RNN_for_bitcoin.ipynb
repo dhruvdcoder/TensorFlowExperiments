{
 "cells": [
  {
   "cell_type": "code",
   "execution_count": 1,
   "metadata": {},
   "outputs": [],
   "source": [
    "import pandas as pd\n",
    "import numpy as np\n",
    "import matplotlib.pyplot as plt\n",
    "import tensorflow as tf"
   ]
  },
  {
   "cell_type": "code",
   "execution_count": 2,
   "metadata": {},
   "outputs": [
    {
     "name": "stdout",
     "output_type": "stream",
     "text": [
      "Head\n",
      "------\n",
      "             date  price\n",
      "0   1/5/2009 0:00    0.0\n",
      "1   1/7/2009 0:00    0.0\n",
      "2   1/9/2009 0:00    0.0\n",
      "3  1/11/2009 0:00    0.0\n",
      "4  1/13/2009 0:00    0.0\n",
      "\n",
      "\n",
      "\n",
      "Tail\n",
      "------\n",
      "                date         price\n",
      "1669  2/25/2018 0:00   9696.593333\n",
      "1670  2/27/2018 0:00  10763.883330\n",
      "1671   3/1/2018 0:00  11009.381670\n",
      "1672   3/3/2018 0:00  11326.948330\n",
      "1673   3/5/2018 0:00  11595.540000\n",
      "\n",
      "\n",
      "\n",
      "description\n",
      "------\n",
      "              price\n",
      "count   1674.000000\n",
      "mean     826.226482\n",
      "std     2351.869070\n",
      "min        0.000000\n",
      "25%        1.285675\n",
      "50%      122.835005\n",
      "75%      568.750000\n",
      "max    19289.785000\n"
     ]
    }
   ],
   "source": [
    "df_HN=pd.read_csv('../data/bitcoin/HackerNews_bitcoin_price.csv')\n",
    "print('Head\\n------')\n",
    "print(df_HN.head())\n",
    "print('\\n\\n')\n",
    "print('Tail\\n------')\n",
    "print(df_HN.tail())\n",
    "print('\\n\\n')\n",
    "print('description\\n------')\n",
    "print(df_HN.describe())"
   ]
  },
  {
   "cell_type": "code",
   "execution_count": 3,
   "metadata": {},
   "outputs": [],
   "source": [
    "df_HN['date']=pd.to_datetime(df_HN['date'])\n",
    "df_HN.index = df_HN['date']\n",
    "df_HN.drop(columns=['date'],inplace=True)\n",
    "df_HN.freq=pd.infer_freq(df_HN.index)"
   ]
  },
  {
   "cell_type": "code",
   "execution_count": 4,
   "metadata": {},
   "outputs": [
    {
     "data": {
      "text/plain": [
       "<matplotlib.legend.Legend at 0x111952128>"
      ]
     },
     "execution_count": 4,
     "metadata": {},
     "output_type": "execute_result"
    },
    {
     "data": {
      "image/png": "[encoded data removed]",
      "text/plain": [
       "<Figure size 864x576 with 1 Axes>"
      ]
     },
     "metadata": {},
     "output_type": "display_data"
    }
   ],
   "source": [
    "f2=plt.figure(figsize=(12,8))\n",
    "plt.plot(df_HN.index,df_HN['price'],label='price')\n",
    "plt.grid()\n",
    "plt.legend()"
   ]
  },
  {
   "cell_type": "markdown",
   "metadata": {},
   "source": [
    "## Create a simple RNN with normal cells"
   ]
  },
  {
   "cell_type": "code",
   "execution_count": 5,
   "metadata": {},
   "outputs": [],
   "source": [
    "# setup the constants\n",
    "n_time_steps = 30\n",
    "n_inputs = 1 # Num of inputs per time_step. Just the avg price per day\n",
    "n_neurons = 300 # Neurons per cell. This cell will be unrolled n_time_steps times\n",
    "n_outputs = 1 # Predicted price per time step"
   ]
  },
  {
   "cell_type": "code",
   "execution_count": 6,
   "metadata": {},
   "outputs": [],
   "source": [
    "# create placeholders for inputs and output\n",
    "X = tf.placeholder(tf.float32,[None,n_time_steps,n_inputs])\n",
    "y = tf.placeholder(tf.float32,[None,n_time_steps,n_outputs])"
   ]
  },
  {
   "cell_type": "code",
   "execution_count": 7,
   "metadata": {},
   "outputs": [],
   "source": [
    "# create the cell definition\n",
    "# We use output wrapper because the output/state of the cell will be of n_neurons size while we want \n",
    "# y to be of size 1. Hence, the wrapper will project the output in n_neurons-D to 1D using a linear map\n",
    "# with trainable weights\n",
    "cell = tf.contrib.rnn.OutputProjectionWrapper(\n",
    "       tf.contrib.rnn.BasicRNNCell(num_units=n_neurons,activation=tf.nn.relu),\n",
    "       output_size=n_outputs)"
   ]
  },
  {
   "cell_type": "code",
   "execution_count": 8,
   "metadata": {},
   "outputs": [],
   "source": [
    "# training constants\n",
    "learning_rate=0.00005\n",
    "n_iterations = 2000\n",
    "batch_size = 200 "
   ]
  },
  {
   "cell_type": "code",
   "execution_count": 9,
   "metadata": {},
   "outputs": [
    {
     "data": {
      "text/plain": [
       "<tf.Tensor 'Const:0' shape=(200, 300) dtype=float32>"
      ]
     },
     "execution_count": 9,
     "metadata": {},
     "output_type": "execute_result"
    }
   ],
   "source": [
    "import random\n",
    "random.seed(1)\n",
    "np.random.seed(1)\n",
    "def He_number_generator(batch_size, n_in, n_out):\n",
    "    init_values=np.ndarray(shape=(batch_size,n_in))\n",
    "    r = np.sqrt(2)*np.sqrt(6/(n_in + n_out))\n",
    "    for batch in range(batch_size):\n",
    "        init_values[batch] = np.random.uniform(low=-r,high=r,size=(1,n_in))\n",
    "    return init_values\n",
    "\n",
    "initial_state_values=tf.constant(He_number_generator(batch_size,n_neurons,n_neurons),dtype=tf.float32)\n",
    "initial_state_values"
   ]
  },
  {
   "cell_type": "code",
   "execution_count": 10,
   "metadata": {},
   "outputs": [],
   "source": [
    "outputs, final_states = tf.nn.dynamic_rnn(cell,X,dtype=tf.float32,initial_state=initial_state_values)"
   ]
  },
  {
   "cell_type": "code",
   "execution_count": null,
   "metadata": {},
   "outputs": [],
   "source": []
  },
  {
   "cell_type": "code",
   "execution_count": 26,
   "metadata": {},
   "outputs": [],
   "source": [
    "# function to fetch a mini-batch at every iteration\n",
    "\n",
    "def fetch_batch(X, batch_size, instance_length, shifts_for_y=1):\n",
    "    X_batch=np.ndarray(shape=(batch_size,instance_length,n_inputs))\n",
    "    y_batch=np.ndarray(shape=(batch_size,instance_length,n_outputs))\n",
    "    for i_instance in range(batch_size):\n",
    "        start_date=random.choice(X.index[:-instance_length - shifts_for_y + 1]) \n",
    "        instance_index = pd.date_range(start=start_date,periods=instance_length+shifts_for_y,freq=X.freq)\n",
    "        X_instance_index=instance_index[:-shifts_for_y]\n",
    "        y_instance_index=instance_index[shifts_for_y:]\n",
    "        X_batch[i_instance] = X.loc[X_instance_index].values\n",
    "        y_batch[i_instance] = X.loc[y_instance_index].values\n",
    "    return X_batch, y_batch"
   ]
  },
  {
   "cell_type": "code",
   "execution_count": 27,
   "metadata": {},
   "outputs": [],
   "source": [
    "loss=tf.reduce_mean(tf.square(outputs - y))\n",
    "optimizer = tf.train.AdamOptimizer(learning_rate=learning_rate)\n",
    "training_op = optimizer.minimize(loss)\n",
    "init = tf.global_variables_initializer()"
   ]
  },
  {
   "cell_type": "code",
   "execution_count": 28,
   "metadata": {},
   "outputs": [],
   "source": [
    "# prepare the data \n",
    "# lets train using data between 2014-01-01 to 2017-07-30\n",
    "# predict for a instance in 2017-08-01 to last\n",
    "train_start_date = pd.to_datetime('2014-01-01')\n",
    "train_end_date = pd.to_datetime('2017-07-30')\n",
    "test_start_date = pd.to_datetime('2017-08-01')\n",
    "train_df = df_HN.loc[train_start_date:train_end_date]\n",
    "test_df = df_HN.loc[test_start_date:]\n",
    "test_df.freq = pd.infer_freq(test_df.index)\n",
    "train_df.freq = pd.infer_freq(train_df.index)"
   ]
  },
  {
   "cell_type": "code",
   "execution_count": 29,
   "metadata": {},
   "outputs": [
    {
     "name": "stdout",
     "output_type": "stream",
     "text": [
      "0 \tMSE :  555684.4\n",
      "100 \tMSE :  31678.445\n",
      "200 \tMSE :  20706.385\n",
      "300 \tMSE :  17518.07\n",
      "400 \tMSE :  14795.297\n",
      "500 \tMSE :  11395.514\n",
      "600 \tMSE :  9498.486\n",
      "700 \tMSE :  10681.371\n",
      "800 \tMSE :  9595.838\n",
      "900 \tMSE :  9134.552\n",
      "1000 \tMSE :  8304.749\n",
      "1100 \tMSE :  8257.536\n",
      "1200 \tMSE :  8703.837\n",
      "1300 \tMSE :  7841.38\n",
      "1400 \tMSE :  7230.739\n",
      "1500 \tMSE :  6758.3813\n",
      "1600 \tMSE :  6643.3687\n",
      "1700 \tMSE :  6634.219\n",
      "1800 \tMSE :  4790.7197\n",
      "1900 \tMSE :  5856.3506\n"
     ]
    }
   ],
   "source": [
    "\n",
    "# start training session\n",
    "sess = tf.InteractiveSession()\n",
    "init.run()\n",
    "for iteration in range(n_iterations):\n",
    "    X_batch, y_batch = fetch_batch(train_df, batch_size, n_time_steps)\n",
    "    sess.run(training_op, feed_dict={X:X_batch, y: y_batch})\n",
    "    if iteration % 100 == 0:\n",
    "        mse = loss.eval(feed_dict={X:X_batch, y:y_batch})\n",
    "        print(iteration, \"\\tMSE : \",mse)"
   ]
  },
  {
   "cell_type": "code",
   "execution_count": 33,
   "metadata": {},
   "outputs": [],
   "source": [
    "test_X, test_y = fetch_batch(test_df,batch_size,n_time_steps)"
   ]
  },
  {
   "cell_type": "code",
   "execution_count": 34,
   "metadata": {
    "scrolled": true
   },
   "outputs": [],
   "source": [
    "y_pred = sess.run(outputs,feed_dict={X:test_X})"
   ]
  },
  {
   "cell_type": "code",
   "execution_count": 44,
   "metadata": {},
   "outputs": [
    {
     "data": {
      "text/plain": [
       "<matplotlib.legend.Legend at 0x11e906b38>"
      ]
     },
     "execution_count": 44,
     "metadata": {},
     "output_type": "execute_result"
    },
    {
     "data": {
      "image/png": "[encoded data removed]",
      "text/plain": [
       "<Figure size 432x288 with 1 Axes>"
      ]
     },
     "metadata": {},
     "output_type": "display_data"
    }
   ],
   "source": [
    "i=20\n",
    "plt.figure()\n",
    "plt.plot(y_pred[i],label='predicted')\n",
    "plt.plot(test_y[i],label='target')\n",
    "plt.legend()"
   ]
  },
  {
   "cell_type": "code",
   "execution_count": 42,
   "metadata": {},
   "outputs": [],
   "source": [
    "logdir='logs/basic_RNN_for_bitcoin'"
   ]
  },
  {
   "cell_type": "code",
   "execution_count": 43,
   "metadata": {},
   "outputs": [],
   "source": [
    "writer = tf.summary.FileWriter(logdir,sess.graph)"
   ]
  },
  {
   "cell_type": "code",
   "execution_count": null,
   "metadata": {},
   "outputs": [],
   "source": [
    "cell2=tf.contrib.rnn.BasicRNNCell(num_units=n_neurons,activation=tf.nn.relu)"
   ]
  },
  {
   "cell_type": "code",
   "execution_count": null,
   "metadata": {},
   "outputs": [],
   "source": [
    "cell.trainable_weights[0].initializer"
   ]
  },
  {
   "cell_type": "code",
   "execution_count": null,
   "metadata": {},
   "outputs": [],
   "source": [
    "tf.contrib.framework.nest.map_structure()"
   ]
  },
  {
   "cell_type": "code",
   "execution_count": null,
   "metadata": {},
   "outputs": [],
   "source": [
    "import pdb"
   ]
  },
  {
   "cell_type": "code",
   "execution_count": null,
   "metadata": {},
   "outputs": [],
   "source": [
    "cell2"
   ]
  },
  {
   "cell_type": "code",
   "execution_count": 24,
   "metadata": {},
   "outputs": [],
   "source": [
    "a=np.array([1,2,3])"
   ]
  },
  {
   "cell_type": "code",
   "execution_count": 25,
   "metadata": {},
   "outputs": [
    {
     "data": {
      "text/plain": [
       "array([1, 2])"
      ]
     },
     "execution_count": 25,
     "metadata": {},
     "output_type": "execute_result"
    }
   ],
   "source": [
    "a[:-1]"
   ]
  },
  {
   "cell_type": "code",
   "execution_count": null,
   "metadata": {},
   "outputs": [],
   "source": []
  }
 ],
 "metadata": {
  "kernelspec": {
   "display_name": "Python 3",
   "language": "python",
   "name": "python3"
  },
  "language_info": {
   "codemirror_mode": {
    "name": "ipython",
    "version": 3
   },
   "file_extension": ".py",
   "mimetype": "text/x-python",
   "name": "python",
   "nbconvert_exporter": "python",
   "pygments_lexer": "ipython3",
   "version": "3.6.4"
  }
 },
 "nbformat": 4,
 "nbformat_minor": 2
}
