{
 "cells": [
  {
   "cell_type": "markdown",
   "metadata": {},
   "source": [
    "## Implementation\n",
    "\n",
    "We need the following components to implement the core word2vec model in tensorflow and as we will see, these components can seen as layers:\n",
    "\n",
    "1. **The input word embeddings (weights)**: These weights, represented as a matrix $\\boldsymbol{W_i}$, transform the onehot encoded word representation $\\boldsymbol{i}$ into the distributed wordvector representation $\\boldsymbol{v}$.\n",
    " \n",
    "2. **The output word embeddings (set of weights)**: These set of matrices $\\boldsymbol{W_{o_1}}, \\boldsymbol{W_{o_2}}, ...$, hold the embeddings of words when they are in the context i.e., output. The number depends on the size of the context that we choose for the model.\n",
    "\n",
    "3. **Softmax**: To transform the dot product scores into probabilities.\n",
    "\n",
    "4. **Negative log-likelihood/ Cross-entropy loss**: The loss functions for the optimizer."
   ]
  },
  {
   "cell_type": "code",
   "execution_count": null,
   "metadata": {},
   "outputs": [],
   "source": []
  }
 ],
 "metadata": {
  "kernelspec": {
   "display_name": "Python 3",
   "language": "python",
   "name": "python3"
  },
  "language_info": {
   "codemirror_mode": {
    "name": "ipython",
    "version": 3
   },
   "file_extension": ".py",
   "mimetype": "text/x-python",
   "name": "python",
   "nbconvert_exporter": "python",
   "pygments_lexer": "ipython3",
   "version": "3.4.3"
  }
 },
 "nbformat": 4,
 "nbformat_minor": 2
}
