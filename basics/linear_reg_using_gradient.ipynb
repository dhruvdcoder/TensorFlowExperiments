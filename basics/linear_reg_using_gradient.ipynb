{
 "cells": [
  {
   "cell_type": "code",
   "execution_count": 33,
   "metadata": {},
   "outputs": [],
   "source": [
    "import sklearn\n",
    "import numpy as np\n",
    "import tensorflow as tf"
   ]
  },
  {
   "cell_type": "code",
   "execution_count": 34,
   "metadata": {},
   "outputs": [
    {
     "name": "stdout",
     "output_type": "stream",
     "text": [
      "20640,8\n"
     ]
    }
   ],
   "source": [
    "# get the dataset\n",
    "from sklearn.datasets import fetch_california_housing\n",
    "data=fetch_california_housing()\n",
    "m,n =data.data.shape\n",
    "print(\"{},{}\".format(m,n))"
   ]
  },
  {
   "cell_type": "code",
   "execution_count": 35,
   "metadata": {},
   "outputs": [],
   "source": [
    "from sklearn.preprocessing import StandardScaler\n",
    "scaler=StandardScaler()\n",
    "scaled_data=scaler.fit_transform(data.data)\n"
   ]
  },
  {
   "cell_type": "code",
   "execution_count": 36,
   "metadata": {},
   "outputs": [],
   "source": [
    "# add extra column for bias\n",
    "data_with_bias=np.c_[np.ones((m,1)),scaled_data]"
   ]
  },
  {
   "cell_type": "code",
   "execution_count": 37,
   "metadata": {},
   "outputs": [],
   "source": [
    "#define X and y as tensors (constants)\n",
    "X=tf.constant(data_with_bias,dtype=tf.float32,name=\"X\")\n",
    "y=tf.constant(data.target.reshape(-1,1),dtype=tf.float32,name=\"y\")"
   ]
  },
  {
   "cell_type": "code",
   "execution_count": 46,
   "metadata": {},
   "outputs": [],
   "source": [
    "# create theta as a variable\n",
    "theta=tf.Variable(tf.random_uniform([n+1,1],-1,1),dtype=tf.float32,name=\"theta\")"
   ]
  },
  {
   "cell_type": "code",
   "execution_count": 56,
   "metadata": {},
   "outputs": [],
   "source": [
    "# define the MSE\n",
    "y_pred=tf.matmul(X,theta,name=\"pred\")\n",
    "error=y-y_pred\n",
    "mse=tf.reduce_mean(tf.square(error),name=\"mse\")\n",
    "grad=tf.gradients(mse,[theta])[0]"
   ]
  },
  {
   "cell_type": "code",
   "execution_count": 59,
   "metadata": {},
   "outputs": [
    {
     "name": "stdout",
     "output_type": "stream",
     "text": [
      "Epoch:  100    MSE :  0.78306437\n",
      "Epoch:  200    MSE :  0.5980845\n",
      "Epoch:  300    MSE :  0.5776482\n",
      "Epoch:  400    MSE :  0.56444865\n",
      "Epoch:  500    MSE :  0.5546811\n",
      "Epoch:  600    MSE :  0.54740036\n",
      "Epoch:  700    MSE :  0.54195213\n",
      "Epoch:  800    MSE :  0.5378582\n",
      "Epoch:  900    MSE :  0.53476846\n",
      "Epoch:  1000    MSE :  0.53242564\n",
      "Epoch:  1100    MSE :  0.5306414\n",
      "Epoch:  1200    MSE :  0.52927494\n",
      "Epoch:  1300    MSE :  0.5282238\n",
      "Epoch:  1400    MSE :  0.52741015\n",
      "Epoch:  1500    MSE :  0.5267779\n",
      "Epoch:  1600    MSE :  0.5262836\n",
      "Epoch:  1700    MSE :  0.52589506\n",
      "Epoch:  1800    MSE :  0.5255889\n",
      "Epoch:  1900    MSE :  0.52534544\n",
      "Epoch:  2000    MSE :  0.52515167\n",
      "Epoch:  2100    MSE :  0.5249967\n",
      "Epoch:  2200    MSE :  0.52487236\n",
      "Epoch:  2300    MSE :  0.52477175\n",
      "Epoch:  2400    MSE :  0.5246902\n",
      "Epoch:  2500    MSE :  0.5246241\n",
      "Epoch:  2600    MSE :  0.52457047\n",
      "Epoch:  2700    MSE :  0.5245265\n",
      "Epoch:  2800    MSE :  0.5244904\n",
      "Epoch:  2900    MSE :  0.5244609\n",
      "Epoch:  3000    MSE :  0.5244369\n",
      "Epoch:  3100    MSE :  0.5244166\n",
      "Epoch:  3200    MSE :  0.52440035\n",
      "Epoch:  3300    MSE :  0.5243869\n",
      "Epoch:  3400    MSE :  0.5243756\n",
      "Epoch:  3500    MSE :  0.52436644\n",
      "Epoch:  3600    MSE :  0.5243585\n",
      "Epoch:  3700    MSE :  0.5243522\n",
      "Epoch:  3800    MSE :  0.52434707\n",
      "Epoch:  3900    MSE :  0.5243425\n",
      "Epoch:  4000    MSE :  0.52433896\n",
      "Epoch:  4100    MSE :  0.5243361\n",
      "Epoch:  4200    MSE :  0.52433366\n",
      "Epoch:  4300    MSE :  0.52433145\n",
      "Epoch:  4400    MSE :  0.5243295\n",
      "Epoch:  4500    MSE :  0.52432823\n",
      "Epoch:  4600    MSE :  0.5243268\n",
      "Epoch:  4700    MSE :  0.52432585\n",
      "Epoch:  4800    MSE :  0.52432525\n",
      "Epoch:  4900    MSE :  0.52432436\n",
      "Epoch:  5000    MSE :  0.5243237\n",
      "Epoch:  5100    MSE :  0.52432317\n",
      "Epoch:  5200    MSE :  0.52432287\n",
      "Epoch:  5300    MSE :  0.5243225\n",
      "Epoch:  5400    MSE :  0.5243224\n",
      "Epoch:  5500    MSE :  0.5243219\n",
      "Epoch:  5600    MSE :  0.52432173\n",
      "Epoch:  5700    MSE :  0.5243217\n",
      "Epoch:  5800    MSE :  0.5243216\n",
      "Epoch:  5900    MSE :  0.52432144\n",
      "Epoch:  6000    MSE :  0.52432144\n",
      "Epoch:  6100    MSE :  0.5243215\n",
      "Epoch:  6200    MSE :  0.524321\n",
      "Epoch:  6300    MSE :  0.5243211\n",
      "Epoch:  6400    MSE :  0.5243213\n",
      "Epoch:  6500    MSE :  0.524321\n",
      "Epoch:  6600    MSE :  0.524321\n",
      "Epoch:  6700    MSE :  0.52432096\n",
      "Epoch:  6800    MSE :  0.5243213\n",
      "Epoch:  6900    MSE :  0.524321\n",
      "Epoch:  7000    MSE :  0.52432096\n",
      "Epoch:  7100    MSE :  0.524321\n",
      "Epoch:  7200    MSE :  0.5243212\n",
      "Epoch:  7300    MSE :  0.524321\n",
      "Epoch:  7400    MSE :  0.524321\n",
      "Epoch:  7500    MSE :  0.524321\n",
      "Epoch:  7600    MSE :  0.52432096\n",
      "Epoch:  7700    MSE :  0.52432096\n",
      "Epoch:  7800    MSE :  0.524321\n",
      "Epoch:  7900    MSE :  0.5243212\n",
      "Epoch:  8000    MSE :  0.524321\n",
      "Epoch:  8100    MSE :  0.5243209\n",
      "Epoch:  8200    MSE :  0.524321\n",
      "Epoch:  8300    MSE :  0.52432084\n",
      "Epoch:  8400    MSE :  0.52432096\n",
      "Epoch:  8500    MSE :  0.5243213\n",
      "Epoch:  8600    MSE :  0.52432114\n",
      "Epoch:  8700    MSE :  0.5243211\n",
      "Epoch:  8800    MSE :  0.524321\n",
      "Epoch:  8900    MSE :  0.52432096\n",
      "Epoch:  9000    MSE :  0.52432084\n",
      "Epoch:  9100    MSE :  0.52432084\n",
      "Epoch:  9200    MSE :  0.52432084\n",
      "Epoch:  9300    MSE :  0.52432084\n",
      "Epoch:  9400    MSE :  0.52432084\n",
      "Epoch:  9500    MSE :  0.5243208\n",
      "Epoch:  9600    MSE :  0.52432084\n",
      "Epoch:  9700    MSE :  0.5243208\n",
      "Epoch:  9800    MSE :  0.5243208\n",
      "Epoch:  9900    MSE :  0.52432084\n"
     ]
    }
   ],
   "source": [
    "# trainig info\n",
    "learning_rate=tf.constant(0.01,dtype=tf.float32,name=\"eta\")\n",
    "n_epochs=10000\n",
    "training_op=tf.assign(theta,theta-tf.scalar_mul(learning_rate,grad))\n",
    "\n",
    "# optimization loop\n",
    "init=tf.global_variables_initializer()\n",
    "with tf.Session() as sess:\n",
    "    sess.run(init)\n",
    "    for epoch in range(1,n_epochs):\n",
    "        if epoch%100==0:\n",
    "            print(\"Epoch: \",epoch,\"   MSE : \",mse.eval())\n",
    "           # print(theta.eval())\n",
    "        sess.run(training_op)\n",
    "    best_theta=theta.eval()\n",
    "    "
   ]
  },
  {
   "cell_type": "code",
   "execution_count": 60,
   "metadata": {},
   "outputs": [
    {
     "data": {
      "text/plain": [
       "array([[ 2.0685525 ],\n",
       "       [ 0.82964253],\n",
       "       [ 0.11875574],\n",
       "       [-0.2655704 ],\n",
       "       [ 0.30573195],\n",
       "       [-0.00450174],\n",
       "       [-0.03932717],\n",
       "       [-0.8998344 ],\n",
       "       [-0.87049305]], dtype=float32)"
      ]
     },
     "execution_count": 60,
     "metadata": {},
     "output_type": "execute_result"
    }
   ],
   "source": [
    "best_theta #match with the closed form solution"
   ]
  },
  {
   "cell_type": "code",
   "execution_count": 55,
   "metadata": {},
   "outputs": [
    {
     "data": {
      "text/plain": [
       "[<tf.Tensor 'gradients_6/pred_7_grad/MatMul_1:0' shape=(9, 1) dtype=float32>]"
      ]
     },
     "execution_count": 55,
     "metadata": {},
     "output_type": "execute_result"
    }
   ],
   "source": [
    "grad"
   ]
  },
  {
   "cell_type": "code",
   "execution_count": null,
   "metadata": {},
   "outputs": [],
   "source": []
  }
 ],
 "metadata": {
  "kernelspec": {
   "display_name": "Python 3",
   "language": "python",
   "name": "python3"
  },
  "language_info": {
   "codemirror_mode": {
    "name": "ipython",
    "version": 3
   },
   "file_extension": ".py",
   "mimetype": "text/x-python",
   "name": "python",
   "nbconvert_exporter": "python",
   "pygments_lexer": "ipython3",
   "version": "3.6.4"
  }
 },
 "nbformat": 4,
 "nbformat_minor": 2
}
